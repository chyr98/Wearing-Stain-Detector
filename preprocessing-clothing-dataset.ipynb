{
  "nbformat": 4,
  "nbformat_minor": 0,
  "metadata": {
    "kernelspec": {
      "display_name": "Python 3",
      "language": "python",
      "name": "python3"
    },
    "language_info": {
      "codemirror_mode": {
        "name": "ipython",
        "version": 3
      },
      "file_extension": ".py",
      "mimetype": "text/x-python",
      "name": "python",
      "nbconvert_exporter": "python",
      "pygments_lexer": "ipython3",
      "version": "3.7.5"
    },
    "colab": {
      "name": "dataset.ipynb",
      "provenance": [],
      "collapsed_sections": []
    }
  },
  "cells": [
    {
      "cell_type": "code",
      "metadata": {
        "id": "mip-6q5VGquC",
        "colab_type": "code",
        "colab": {}
      },
      "source": [
        "!https://github.com/bearpaw/clothing-co-parsing.git"
      ],
      "execution_count": 0,
      "outputs": []
    },
    {
      "cell_type": "code",
      "metadata": {
        "id": "W6aNN2pPGD4g",
        "colab_type": "code",
        "colab": {}
      },
      "source": [
        "import numpy as np\n",
        "import matplotlib.pyplot as plt\n",
        "from PIL import Image\n",
        "import cv2\n",
        "import scipy.io as scipyio\n",
        "import os\n",
        "from keras.utils import to_categorical\n",
        "from tqdm import tqdm"
      ],
      "execution_count": 0,
      "outputs": []
    },
    {
      "cell_type": "code",
      "metadata": {
        "id": "3IhvUmCCGD4r",
        "colab_type": "code",
        "colab": {}
      },
      "source": [
        "Height = 256\n",
        "Width = 256\n",
        "\n",
        "cwd = os.getcwd()\n",
        "ori_data_dir = \"/clothing-co-parsing\"\n",
        "img_path = cwd + ori_data_dir + \"/photos\"\n",
        "mask_mat_path = cwd + ori_data_dir +\"/annotations/pixel-level\"\n",
        "\n",
        "img_list = [img for img in sorted(os.listdir(img_path)) if os.path.splitext(img)[1] == '.jpg']\n",
        "mask_mat_list =  [mask for mask in sorted(os.listdir(mask_mat_path)) if os.path.splitext(mask)[1] == '.mat']"
      ],
      "execution_count": 0,
      "outputs": []
    },
    {
      "cell_type": "code",
      "metadata": {
        "id": "B6obaGEpGD5C",
        "colab_type": "code",
        "colab": {}
      },
      "source": [
        "def create_img_dataset(img_list, height, width):\n",
        "    \n",
        "    img_data = np.zeros((len(img_list), height, width, 3), dtype = np.uint8)\n",
        "    \n",
        "    for i, img in enumerate(img_list):\n",
        "        img = cv2.imread(img_path + \"/\" + img)\n",
        "        img = cv2.resize(img, dsize=(width,height), interpolation = cv2.INTER_NEAREST)\n",
        "        img_data[i] = img\n",
        "        \n",
        "    print(\"Creating image dataset sucessfully\")\n",
        "    return img_data"
      ],
      "execution_count": 0,
      "outputs": []
    },
    {
      "cell_type": "code",
      "metadata": {
        "id": "WdqWUdwyGD5I",
        "colab_type": "code",
        "colab": {}
      },
      "source": [
        "mask_img_dir = cwd + ori_data_dir + '/mask_image/'\n",
        "\n",
        "def create_mask_dataset(mask_mat_list, height, width):\n",
        "    \n",
        "    mask_data = np.zeros((len(mask_mat_list), height, width, 1), dtype = np.uint8)\n",
        "    \n",
        "    if not os.path.exists(mask_img_dir):\n",
        "        os.makedirs(mask_img_dir)\n",
        "\n",
        "    for i, mask_mat in enumerate(mask_mat_list):\n",
        "        mask = scipyio.loadmat(mask_mat_path + \"/\" + mask_mat)[\"groundtruth\"]\n",
        "        mask = cv2.resize(mask, dsize=(width,height), interpolation = cv2.INTER_NEAREST)\n",
        "        mask_data[i] = mask.reshape(height,width,1)\n",
        "     \n",
        "    \n",
        "    print(\"Transforming mask .mat files to resized .png amd creating mask dataset sucessfully\")\n",
        "    return mask_data"
      ],
      "execution_count": 0,
      "outputs": []
    },
    {
      "cell_type": "code",
      "metadata": {
        "id": "id0iJ-viGD5P",
        "colab_type": "code",
        "colab": {}
      },
      "source": [
        "img_data = create_img_dataset(img_list, Height, Width)"
      ],
      "execution_count": 0,
      "outputs": []
    },
    {
      "cell_type": "code",
      "metadata": {
        "id": "TNbPBO5FGD5V",
        "colab_type": "code",
        "colab": {}
      },
      "source": [
        "mask_data = create_mask_dataset(mask_mat_list, Height, Width)"
      ],
      "execution_count": 0,
      "outputs": []
    },
    {
      "cell_type": "code",
      "metadata": {
        "id": "-DN4c4I2GD5c",
        "colab_type": "code",
        "colab": {}
      },
      "source": [
        "def mask_data_to_show(mask_data, height, width):\n",
        "    \n",
        "    return mask_data.reshape(height, width)"
      ],
      "execution_count": 0,
      "outputs": []
    },
    {
      "cell_type": "code",
      "metadata": {
        "id": "7hTm7DWFGD5h",
        "colab_type": "code",
        "colab": {}
      },
      "source": [
        "def labelize(mask_data):\n",
        "    data_size = mask_data.shape[0]\n",
        "    mask_data = mask_data.reshape(data_size, -1)\n",
        "    labelize_mask_data = np.zeros(mask_data.shape)\n",
        "    \n",
        "    for i in tqdm(range(data_size)):\n",
        "        \n",
        "        for j, pixel in enumerate(mask_data[i]):\n",
        "                    \n",
        "            \n",
        "            if pixel == 0 :\n",
        "                labelize_mask_data[i][j] = 0 # background\n",
        "            elif pixel == 19:\n",
        "                labelize_mask_data[i][j] = 2 # hair\n",
        "            elif pixel == 41:\n",
        "                labelize_mask_data[i][j] = 1 # skin\n",
        "            else:\n",
        "                labelize_mask_data[i][j] = 3 # clothes\n",
        "                \n",
        "    label_data = labelize_mask_data.reshape(-1, Height, Width, 1)\n",
        "    \n",
        "    return label_data"
      ],
      "execution_count": 0,
      "outputs": []
    },
    {
      "cell_type": "code",
      "metadata": {
        "id": "QMDZKGS8GD5l",
        "colab_type": "code",
        "colab": {}
      },
      "source": [
        "label_data = labelize(mask_data)\n",
        "print(label_data.shape)"
      ],
      "execution_count": 0,
      "outputs": []
    },
    {
      "cell_type": "code",
      "metadata": {
        "id": "WklpyXwYGD5p",
        "colab_type": "code",
        "colab": {},
        "outputId": "3599b138-eff2-4eb8-84f2-b6ad1301e9c3"
      },
      "source": [
        "print(label_data.reshape(-1, Height, Width, 1).shape)\n",
        "label = label_data.reshape(-1, Height, Width, 1)[2]\n",
        "plt.imshow(np.squeeze(label))"
      ],
      "execution_count": 0,
      "outputs": [
        {
          "output_type": "stream",
          "text": [
            "(1004, 256, 256, 1)\n"
          ],
          "name": "stdout"
        },
        {
          "output_type": "execute_result",
          "data": {
            "text/plain": [
              "<matplotlib.image.AxesImage at 0x7ffb01981410>"
            ]
          },
          "metadata": {
            "tags": []
          },
          "execution_count": 55
        },
        {
          "output_type": "display_data",
          "data": {
            "image/png": "[encoded data removed]",
            "text/plain": [
              "<Figure size 432x288 with 1 Axes>"
            ]
          },
          "metadata": {
            "tags": [],
            "needs_background": "light"
          }
        }
      ]
    },
    {
      "cell_type": "code",
      "metadata": {
        "id": "4MaYT-UcGD5s",
        "colab_type": "code",
        "colab": {}
      },
      "source": [
        "data_path = cwd + '/data/'\n",
        "\n",
        "# Reference: https://keras.io/utils/\n",
        "def save_dataset(img_data, label_data):\n",
        "    \n",
        "    if not os.path.exists(data_path):\n",
        "        os.makedirs(data_path)\n",
        "        \n",
        "    one_hot_label_data = to_categorical(label_data, 4)\n",
        "    \n",
        "    np.save(data_path + 'img_train.npy', img_data[:880])\n",
        "    np.save(data_path + 'one_hot_label_train.npy', one_hot_label_data[:880])\n",
        "    np.save(data_path + 'img_test.npy', img_data[880:1004])\n",
        "    np.save(data_path + 'one_hot_label_test.npy', one_hot_label_data[880:1004])"
      ],
      "execution_count": 0,
      "outputs": []
    },
    {
      "cell_type": "code",
      "metadata": {
        "id": "hsJXm_NzGD5v",
        "colab_type": "code",
        "colab": {}
      },
      "source": [
        "save_dataset(img_data, label_data)"
      ],
      "execution_count": 0,
      "outputs": []
    },
    {
      "cell_type": "code",
      "metadata": {
        "id": "nMpWeB92GD5y",
        "colab_type": "code",
        "colab": {}
      },
      "source": [
        "def load_dataset():\n",
        "    \n",
        "    npy_list = os.listdir(data_path)\n",
        "    \n",
        "    for i in npy_list:\n",
        "        if not os.path.exists(data_path + i):\n",
        "            print(\"No saved dataset, saving dataset now\")\n",
        "            save_dataset(img_data, mask_data)\n",
        "            break\n",
        "    \n",
        "    img_train = np.load('data/img_train.npy').astype(np.float32)\n",
        "    mask_train = np.load('data/one_hot_label_train.npy').astype(np.float32)\n",
        "    img_test = np.load('data/img_test.npy').astype(np.float32)\n",
        "    mask_test = np.load('data/one_hot_label_test.npy').astype(np.float32)\n",
        "    \n",
        "    return img_train, mask_train, img_test, mask_test"
      ],
      "execution_count": 0,
      "outputs": []
    },
    {
      "cell_type": "code",
      "metadata": {
        "id": "GIDNUcpSGD50",
        "colab_type": "code",
        "colab": {}
      },
      "source": [
        "img_train, mask_train, img_test, mask_test = load_dataset()"
      ],
      "execution_count": 0,
      "outputs": []
    }
  ]
}